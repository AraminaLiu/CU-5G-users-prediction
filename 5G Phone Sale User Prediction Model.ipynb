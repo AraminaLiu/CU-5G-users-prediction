{
 "cells": [
  {
   "cell_type": "code",
   "execution_count": 6,
   "metadata": {},
   "outputs": [
    {
     "name": "stdout",
     "output_type": "stream",
     "text": [
      "Requirement already satisfied: pandas in c:\\users\\tianyi wang\\anaconda3\\lib\\site-packages (0.25.1)\n",
      "Requirement already satisfied: pytz>=2017.2 in c:\\users\\tianyi wang\\anaconda3\\lib\\site-packages (from pandas) (2019.3)\n",
      "Requirement already satisfied: python-dateutil>=2.6.1 in c:\\users\\tianyi wang\\anaconda3\\lib\\site-packages (from pandas) (2.8.0)\n",
      "Requirement already satisfied: numpy>=1.13.3 in c:\\users\\tianyi wang\\anaconda3\\lib\\site-packages (from pandas) (1.16.5)\n",
      "Requirement already satisfied: six>=1.5 in c:\\users\\tianyi wang\\anaconda3\\lib\\site-packages (from python-dateutil>=2.6.1->pandas) (1.12.0)\n",
      "Requirement already satisfied: numpy in c:\\users\\tianyi wang\\anaconda3\\lib\\site-packages (1.16.5)\n",
      "Requirement already satisfied: sklearn in c:\\users\\tianyi wang\\anaconda3\\lib\\site-packages (0.0)\n",
      "Requirement already satisfied: scikit-learn in c:\\users\\tianyi wang\\anaconda3\\lib\\site-packages (from sklearn) (0.21.3)\n",
      "Requirement already satisfied: scipy>=0.17.0 in c:\\users\\tianyi wang\\anaconda3\\lib\\site-packages (from scikit-learn->sklearn) (1.3.1)\n",
      "Requirement already satisfied: numpy>=1.11.0 in c:\\users\\tianyi wang\\anaconda3\\lib\\site-packages (from scikit-learn->sklearn) (1.16.5)\n",
      "Requirement already satisfied: joblib>=0.11 in c:\\users\\tianyi wang\\anaconda3\\lib\\site-packages (from scikit-learn->sklearn) (0.13.2)\n"
     ]
    }
   ],
   "source": [
    "!pip install pandas\n",
    "!pip install numpy\n",
    "!pip install sklearn"
   ]
  },
  {
   "cell_type": "code",
   "execution_count": 7,
   "metadata": {},
   "outputs": [],
   "source": [
    "import pandas as pd\n",
    "from pandas import DataFrame\n",
    "import numpy as np\n",
    "from sklearn.cluster import KMeans\n",
    "from sklearn.cluster import MiniBatchKMeans\n",
    "from sklearn.metrics import calinski_harabasz_score"
   ]
  },
  {
   "cell_type": "code",
   "execution_count": 13,
   "metadata": {},
   "outputs": [],
   "source": [
    "data = pd.read_csv(\"qh_phone_5g_sale_oss-20210523.txt\")\n",
    "data = DataFrame(data)"
   ]
  },
  {
   "cell_type": "code",
   "execution_count": 14,
   "metadata": {},
   "outputs": [
    {
     "name": "stdout",
     "output_type": "stream",
     "text": [
      "        msisdn          imei  apps  social_days  social_durition  \\\n",
      "0  18697103643  8.698940e+14    32            7            36669   \n",
      "1  15500705959  8.668530e+14    29            7            15729   \n",
      "2  17697120111  8.615940e+14    52            7            11533   \n",
      "3  13139064333  8.648620e+14    54            7            27409   \n",
      "4  17628028835  3.530651e+14    61            6              325   \n",
      "\n",
      "   social_traff  game_days  game_durition  game_traff  shop_days  \\\n",
      "0  1.864083e+09          0              0         0.0          3   \n",
      "1  1.542580e+09          0              0         0.0          5   \n",
      "2  5.311266e+08          0              0         0.0          5   \n",
      "3  1.048729e+09          2             12   1918880.0          4   \n",
      "4  1.307460e+07          3            111    107776.0          3   \n",
      "\n",
      "   shop_durition  shop_traff  video_days  video_durition  video_traff  \n",
      "0             13    257609.0           1               3       9629.0  \n",
      "1          16104   4316143.0           2             182   14465748.0  \n",
      "2           9450   4253882.0           2            3739   21609365.0  \n",
      "3            885    519854.0           5             475     948135.0  \n",
      "4             51   1205456.0           5             448    2529260.0  \n"
     ]
    }
   ],
   "source": [
    "print(data.head())"
   ]
  },
  {
   "cell_type": "code",
   "execution_count": 15,
   "metadata": {},
   "outputs": [
    {
     "name": "stdout",
     "output_type": "stream",
     "text": [
      "['msisdn' 'imei' 'apps' 'social_days' 'social_durition' 'social_traff'\n",
      " 'game_days' 'game_durition' 'game_traff' 'shop_days' 'shop_durition'\n",
      " 'shop_traff' 'video_days' 'video_durition' 'video_traff']\n"
     ]
    }
   ],
   "source": [
    "print(data.columns.values)"
   ]
  },
  {
   "cell_type": "code",
   "execution_count": 16,
   "metadata": {},
   "outputs": [
    {
     "name": "stdout",
     "output_type": "stream",
     "text": [
      "msisdn               int64\n",
      "imei               float64\n",
      "apps                 int64\n",
      "social_days          int64\n",
      "social_durition      int64\n",
      "social_traff       float64\n",
      "game_days            int64\n",
      "game_durition        int64\n",
      "game_traff         float64\n",
      "shop_days            int64\n",
      "shop_durition        int64\n",
      "shop_traff         float64\n",
      "video_days           int64\n",
      "video_durition       int64\n",
      "video_traff        float64\n",
      "dtype: object\n"
     ]
    }
   ],
   "source": [
    "print(data.dtypes)"
   ]
  },
  {
   "cell_type": "code",
   "execution_count": 17,
   "metadata": {},
   "outputs": [
    {
     "name": "stdout",
     "output_type": "stream",
     "text": [
      "             msisdn          imei           apps    social_days  \\\n",
      "count  8.463240e+05  8.462810e+05  846324.000000  846324.000000   \n",
      "mean   1.578375e+10  7.824101e+14      49.545204       6.492737   \n",
      "std    2.048803e+09  1.881435e+14      20.968192       1.217588   \n",
      "min    1.300102e+10  0.000000e+00       1.000000       0.000000   \n",
      "25%    1.325936e+10  8.612261e+14      34.000000       7.000000   \n",
      "50%    1.559744e+10  8.644670e+14      49.000000       7.000000   \n",
      "75%    1.769716e+10  8.674630e+14      64.000000       7.000000   \n",
      "max    8.536809e+10  9.900160e+14     187.000000       7.000000   \n",
      "\n",
      "       social_durition  social_traff      game_days  game_durition  \\\n",
      "count     8.463240e+05  8.463240e+05  846324.000000  846324.000000   \n",
      "mean      2.343879e+04  7.963095e+08       0.789369     125.778018   \n",
      "std       3.289774e+04  1.162975e+09       1.517440     939.161885   \n",
      "min       0.000000e+00  0.000000e+00       0.000000       0.000000   \n",
      "25%       2.835000e+03  4.467803e+07       0.000000       0.000000   \n",
      "50%       1.137050e+04  3.460423e+08       0.000000       0.000000   \n",
      "75%       3.113300e+04  1.083219e+09       1.000000       2.000000   \n",
      "max       1.408452e+06  2.976357e+10       7.000000  288266.000000   \n",
      "\n",
      "         game_traff      shop_days  shop_durition    shop_traff  \\\n",
      "count  8.463240e+05  846324.000000   8.463240e+05  8.463240e+05   \n",
      "mean   8.182782e+06       3.655132   4.193189e+03  4.900802e+06   \n",
      "std    7.274858e+07       1.589237   7.866692e+03  2.556496e+07   \n",
      "min    0.000000e+00       0.000000   0.000000e+00  0.000000e+00   \n",
      "25%    0.000000e+00       3.000000   1.140000e+02  2.326090e+05   \n",
      "50%    0.000000e+00       4.000000   1.353000e+03  1.207558e+06   \n",
      "75%    3.562470e+05       5.000000   5.450000e+03  3.723596e+06   \n",
      "max    5.986078e+09       5.000000   1.668150e+06  8.164385e+09   \n",
      "\n",
      "          video_days  video_durition   video_traff  \n",
      "count  846324.000000   846324.000000  8.463240e+05  \n",
      "mean        3.294468     1508.466586  4.160486e+07  \n",
      "std         1.706414     6986.882006  2.211827e+08  \n",
      "min         0.000000        0.000000  0.000000e+00  \n",
      "25%         2.000000        9.000000  4.522675e+04  \n",
      "50%         4.000000      107.000000  7.618595e+05  \n",
      "75%         5.000000      583.000000  1.050668e+07  \n",
      "max         5.000000   689686.000000  2.181799e+10  \n"
     ]
    }
   ],
   "source": [
    "print(data.describe())"
   ]
  },
  {
   "cell_type": "code",
   "execution_count": null,
   "metadata": {},
   "outputs": [],
   "source": []
  }
 ],
 "metadata": {
  "kernelspec": {
   "display_name": "Python 3",
   "language": "python",
   "name": "python3"
  },
  "language_info": {
   "codemirror_mode": {
    "name": "ipython",
    "version": 3
   },
   "file_extension": ".py",
   "mimetype": "text/x-python",
   "name": "python",
   "nbconvert_exporter": "python",
   "pygments_lexer": "ipython3",
   "version": "3.8.8"
  },
  "toc": {
   "base_numbering": 1,
   "nav_menu": {},
   "number_sections": true,
   "sideBar": true,
   "skip_h1_title": false,
   "title_cell": "Table of Contents",
   "title_sidebar": "Contents",
   "toc_cell": false,
   "toc_position": {},
   "toc_section_display": true,
   "toc_window_display": false
  },
  "varInspector": {
   "cols": {
    "lenName": 16,
    "lenType": 16,
    "lenVar": 40
   },
   "kernels_config": {
    "python": {
     "delete_cmd_postfix": "",
     "delete_cmd_prefix": "del ",
     "library": "var_list.py",
     "varRefreshCmd": "print(var_dic_list())"
    },
    "r": {
     "delete_cmd_postfix": ") ",
     "delete_cmd_prefix": "rm(",
     "library": "var_list.r",
     "varRefreshCmd": "cat(var_dic_list()) "
    }
   },
   "types_to_exclude": [
    "module",
    "function",
    "builtin_function_or_method",
    "instance",
    "_Feature"
   ],
   "window_display": false
  }
 },
 "nbformat": 4,
 "nbformat_minor": 2
}
